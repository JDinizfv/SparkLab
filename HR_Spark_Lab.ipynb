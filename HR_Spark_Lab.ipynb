{
  "nbformat": 4,
  "nbformat_minor": 0,
  "metadata": {
    "colab": {
      "provenance": []
    },
    "kernelspec": {
      "name": "python3",
      "display_name": "Python 3"
    },
    "language_info": {
      "name": "python"
    }
  },
  "cells": [
    {
      "cell_type": "code",
      "execution_count": null,
      "metadata": {
        "id": "K4eWKBhnLq7J"
      },
      "outputs": [],
      "source": [
        "# Engenharia de Dados 2\n",
        "# Nauber Gois\n",
        "# Dados: HR database\n",
        "\n",
        "#Grupo: Jean Diniz , Paulo, Anizio"
      ]
    },
    {
      "cell_type": "code",
      "source": [
        "!pip install pyspark"
      ],
      "metadata": {
        "colab": {
          "base_uri": "https://localhost:8080/"
        },
        "id": "Oh65ERFOL7OM",
        "outputId": "775ca76f-f48c-4667-bbc8-7dea35a367bf"
      },
      "execution_count": null,
      "outputs": [
        {
          "output_type": "stream",
          "name": "stdout",
          "text": [
            "Requirement already satisfied: pyspark in /usr/local/lib/python3.10/dist-packages (3.5.1)\n",
            "Requirement already satisfied: py4j==0.10.9.7 in /usr/local/lib/python3.10/dist-packages (from pyspark) (0.10.9.7)\n"
          ]
        }
      ]
    },
    {
      "cell_type": "code",
      "source": [
        "\n",
        "from pyspark.sql import SparkSession\n",
        "spark = SparkSession.builder.getOrCreate()\n"
      ],
      "metadata": {
        "id": "fyxNIo2FMJLy"
      },
      "execution_count": null,
      "outputs": []
    },
    {
      "cell_type": "code",
      "source": [
        "# prompt: quero importar https://github.com/JDinizfv/SparkLab todos os arquivos csv desse link\n",
        "\n",
        "!git clone https://github.com/JDinizfv/SparkLab.git\n"
      ],
      "metadata": {
        "colab": {
          "base_uri": "https://localhost:8080/"
        },
        "id": "ryx2lNJvmcEV",
        "outputId": "85d0e7a2-5d72-44b1-f052-9547dc14b38c"
      },
      "execution_count": null,
      "outputs": [
        {
          "output_type": "stream",
          "name": "stdout",
          "text": [
            "fatal: destination path 'SparkLab' already exists and is not an empty directory.\n",
            "mv: missing destination file operand after 'SparkLab/data/*.csv'\n",
            "Try 'mv --help' for more information.\n"
          ]
        }
      ]
    },
    {
      "cell_type": "code",
      "source": [
        "# prompt: ler o arquivo amazon.csv no spark\n",
        "\n",
        "df = spark.read.csv('hr_dashboard_data.csv', header=True, inferSchema=True)\n"
      ],
      "metadata": {
        "id": "aUKP4RFMPFLs"
      },
      "execution_count": null,
      "outputs": []
    },
    {
      "cell_type": "code",
      "source": [
        "df.show(10)"
      ],
      "metadata": {
        "colab": {
          "base_uri": "https://localhost:8080/"
        },
        "id": "OpOi5aelPZwV",
        "outputId": "2fff1dea-ec90-45f5-e6b8-460bf8777659"
      },
      "execution_count": null,
      "outputs": [
        {
          "output_type": "stream",
          "name": "stdout",
          "text": [
            "+----------------+---+------+------------------+----------------+---------------------+--------------+----------+----------------+------------+------+\n",
            "|            Name|Age|Gender|Projects Completed|Productivity (%)|Satisfaction Rate (%)|Feedback Score|Department|        Position|Joining Date|Salary|\n",
            "+----------------+---+------+------------------+----------------+---------------------+--------------+----------+----------------+------------+------+\n",
            "| Douglas Lindsey| 25|  Male|                11|              57|                   25|           4.7| Marketing|         Analyst|      Jan-20| 63596|\n",
            "|Anthony Roberson| 59|Female|                19|              55|                   76|           2.8|        IT|         Manager|      Jan-99|112540|\n",
            "|   Thomas Miller| 30|  Male|                 8|              87|                   10|           2.4|        IT|         Analyst|      Jan-17| 66292|\n",
            "|    Joshua Lewis| 26|Female|                 1|              53|                    4|           1.4| Marketing|          Intern|      Jan-22| 38303|\n",
            "|Stephanie Bailey| 43|  Male|                14|               3|                    9|           4.5|        IT|       Team Lead|      Jan-05|101133|\n",
            "|   Jonathan King| 24|  Male|                 5|              63|                   33|           4.2|     Sales|Junior Developer|      Jan-21| 48740|\n",
            "|   Kyle Figueroa| 33|Female|                13|              41|                   39|           2.3|     Sales|         Analyst|      Jan-18| 73502|\n",
            "|   Shannon Allen| 23|Female|                 4|              92|                   68|           2.8|        HR|          Intern|      Jan-21| 39670|\n",
            "|     Daryl Noble| 30|Female|                 7|              32|                   43|           2.3| Marketing|Junior Developer|      Jan-19| 49323|\n",
            "|  Tracy Figueroa| 39|Female|                17|              10|                   15|           1.1|        HR|       Team Lead|      Jan-04| 92915|\n",
            "+----------------+---+------+------------------+----------------+---------------------+--------------+----------+----------------+------------+------+\n",
            "only showing top 10 rows\n",
            "\n"
          ]
        }
      ]
    },
    {
      "cell_type": "code",
      "source": [
        "# prompt: por favor renomear as colunas que contenham (%) como a Productivity (%) e Satisfaction Rate (%), quero que remova esses caracteres e strip()\n",
        "\n",
        "df = df.withColumnRenamed('Productivity (%)', 'Productivity') \\\n",
        "       .withColumnRenamed('Satisfaction Rate (%)', 'Satisfaction')\n",
        "df.show(10)\n"
      ],
      "metadata": {
        "colab": {
          "base_uri": "https://localhost:8080/"
        },
        "id": "Hdy_bJBvSmWW",
        "outputId": "6a70f68f-2aa7-42cc-d769-975a44bb2e3f"
      },
      "execution_count": null,
      "outputs": [
        {
          "output_type": "stream",
          "name": "stdout",
          "text": [
            "+----------------+---+------+------------------+------------+------------+--------------+----------+----------------+------------+------+\n",
            "|            Name|Age|Gender|Projects Completed|Productivity|Satisfaction|Feedback Score|Department|        Position|Joining Date|Salary|\n",
            "+----------------+---+------+------------------+------------+------------+--------------+----------+----------------+------------+------+\n",
            "| Douglas Lindsey| 25|  Male|                11|          57|          25|           4.7| Marketing|         Analyst|      Jan-20| 63596|\n",
            "|Anthony Roberson| 59|Female|                19|          55|          76|           2.8|        IT|         Manager|      Jan-99|112540|\n",
            "|   Thomas Miller| 30|  Male|                 8|          87|          10|           2.4|        IT|         Analyst|      Jan-17| 66292|\n",
            "|    Joshua Lewis| 26|Female|                 1|          53|           4|           1.4| Marketing|          Intern|      Jan-22| 38303|\n",
            "|Stephanie Bailey| 43|  Male|                14|           3|           9|           4.5|        IT|       Team Lead|      Jan-05|101133|\n",
            "|   Jonathan King| 24|  Male|                 5|          63|          33|           4.2|     Sales|Junior Developer|      Jan-21| 48740|\n",
            "|   Kyle Figueroa| 33|Female|                13|          41|          39|           2.3|     Sales|         Analyst|      Jan-18| 73502|\n",
            "|   Shannon Allen| 23|Female|                 4|          92|          68|           2.8|        HR|          Intern|      Jan-21| 39670|\n",
            "|     Daryl Noble| 30|Female|                 7|          32|          43|           2.3| Marketing|Junior Developer|      Jan-19| 49323|\n",
            "|  Tracy Figueroa| 39|Female|                17|          10|          15|           1.1|        HR|       Team Lead|      Jan-04| 92915|\n",
            "+----------------+---+------+------------------+------------+------------+--------------+----------+----------------+------------+------+\n",
            "only showing top 10 rows\n",
            "\n"
          ]
        }
      ]
    },
    {
      "cell_type": "code",
      "source": [
        "# prompt: Transformar o csv em parquet e fazer o spark lê-lo , chamar arquivo de hr_df\n",
        "\n",
        "# Convert the CSV file to Parquet format\n",
        "df.write.parquet('hr_df.parquet')\n",
        "\n",
        "# Read the Parquet file into a new DataFrame\n",
        "hr_df = spark.read.parquet('hr_df.parquet')\n",
        "\n",
        "# Display the first 10 rows of the new DataFrame\n",
        "hr_df.show(10)\n"
      ],
      "metadata": {
        "colab": {
          "base_uri": "https://localhost:8080/"
        },
        "id": "r-gcnQVUVBNj",
        "outputId": "bd827ad6-5c03-43b4-89dd-2bd8a74528fd"
      },
      "execution_count": null,
      "outputs": [
        {
          "output_type": "stream",
          "name": "stdout",
          "text": [
            "+----------------+---+------+------------------+------------+------------+--------------+----------+----------------+------------+------+\n",
            "|            Name|Age|Gender|Projects Completed|Productivity|Satisfaction|Feedback Score|Department|        Position|Joining Date|Salary|\n",
            "+----------------+---+------+------------------+------------+------------+--------------+----------+----------------+------------+------+\n",
            "| Douglas Lindsey| 25|  Male|                11|          57|          25|           4.7| Marketing|         Analyst|      Jan-20| 63596|\n",
            "|Anthony Roberson| 59|Female|                19|          55|          76|           2.8|        IT|         Manager|      Jan-99|112540|\n",
            "|   Thomas Miller| 30|  Male|                 8|          87|          10|           2.4|        IT|         Analyst|      Jan-17| 66292|\n",
            "|    Joshua Lewis| 26|Female|                 1|          53|           4|           1.4| Marketing|          Intern|      Jan-22| 38303|\n",
            "|Stephanie Bailey| 43|  Male|                14|           3|           9|           4.5|        IT|       Team Lead|      Jan-05|101133|\n",
            "|   Jonathan King| 24|  Male|                 5|          63|          33|           4.2|     Sales|Junior Developer|      Jan-21| 48740|\n",
            "|   Kyle Figueroa| 33|Female|                13|          41|          39|           2.3|     Sales|         Analyst|      Jan-18| 73502|\n",
            "|   Shannon Allen| 23|Female|                 4|          92|          68|           2.8|        HR|          Intern|      Jan-21| 39670|\n",
            "|     Daryl Noble| 30|Female|                 7|          32|          43|           2.3| Marketing|Junior Developer|      Jan-19| 49323|\n",
            "|  Tracy Figueroa| 39|Female|                17|          10|          15|           1.1|        HR|       Team Lead|      Jan-04| 92915|\n",
            "+----------------+---+------+------------------+------------+------------+--------------+----------+----------------+------------+------+\n",
            "only showing top 10 rows\n",
            "\n"
          ]
        }
      ]
    },
    {
      "cell_type": "code",
      "source": [
        "# prompt: quero um df, nomeado df_avg agrupando por Department , Position, Gender, sem renomear colunas com a média (avg) das colunas Projects Completed, Productivity , Satisfaction, Feedback Score , Salary, Age\n",
        "\n",
        "df_avg = hr_df.groupBy('Department', 'Position', 'Gender').avg(\"Productivity\", \"Satisfaction\", \"Projects Completed\", \"Feedback Score\",\"Age\",\"Salary\")\n",
        "df_avg.show()\n"
      ],
      "metadata": {
        "colab": {
          "base_uri": "https://localhost:8080/"
        },
        "id": "EPyvghs_cz-G",
        "outputId": "64d46bac-2ddd-474f-dd48-e85095d30c7c"
      },
      "execution_count": null,
      "outputs": [
        {
          "output_type": "stream",
          "name": "stdout",
          "text": [
            "+----------+----------------+------+------------------+------------------+-----------------------+-------------------+------------------+------------------+\n",
            "|Department|        Position|Gender| avg(Productivity)| avg(Satisfaction)|avg(Projects Completed)|avg(Feedback Score)|          avg(Age)|       avg(Salary)|\n",
            "+----------+----------------+------+------------------+------------------+-----------------------+-------------------+------------------+------------------+\n",
            "| Marketing|       Team Lead|Female|              24.0|              20.8|                   14.4| 3.5800000000000005|              37.2|           96697.4|\n",
            "|        IT|         Manager|  Male|              60.8|              43.2|                   21.8| 3.7400000000000007|              43.4|          109333.2|\n",
            "|     Sales|         Manager|  Male|             28.75|              50.5|                   19.0| 2.8000000000000003|              48.0|          113529.5|\n",
            "|     Sales|Junior Developer|  Male|              67.8|              34.8|                    5.8|                2.9|              25.4|           49691.8|\n",
            "|        HR|          Intern|  Male|              56.0|              69.0|                    1.0|                3.0|              24.0|           32821.0|\n",
            "|        HR|Junior Developer|Female|26.666666666666668|59.666666666666664|      5.666666666666667|  2.533333333333333|27.333333333333332|50577.333333333336|\n",
            "| Marketing|         Analyst|  Male|              58.2|              30.0|                   11.2|               3.16|              32.4|           68855.4|\n",
            "|     Sales|       Team Lead|  Male|              16.5|              26.0|                   18.0|                2.6|              38.0|          101208.0|\n",
            "|   Finance|Junior Developer|  Male|             51.75|             66.25|                    8.5|              2.275|             25.75|           50286.0|\n",
            "|   Finance|Senior Developer|Female|               0.0|              52.0|                   11.0|                2.8|              45.0|           87114.0|\n",
            "|     Sales|Junior Developer|Female|              39.0|              59.0|      5.333333333333333|                2.6|24.666666666666668|54767.666666666664|\n",
            "| Marketing|          Intern|  Male|              27.5|             51.75|                    2.0| 3.0000000000000004|             24.25|           34076.5|\n",
            "| Marketing|       Team Lead|  Male|54.333333333333336|              62.0|                   14.0|                3.6|45.666666666666664|          102229.0|\n",
            "| Marketing|Senior Developer|Female|              35.0|             33.25|                   13.5| 2.8500000000000005|             30.75|           84641.5|\n",
            "|        HR|         Manager|Female|              71.0|               7.0|                   20.5|                2.9|              51.0|          109267.0|\n",
            "|        IT|          Intern|Female|              95.0|              54.0|                    2.0|                3.4|              26.0|           31328.0|\n",
            "|        HR|       Team Lead|  Male|              74.0|              83.0|                   12.0|                3.9|              42.0|          100865.0|\n",
            "|     Sales|         Analyst|Female|              52.0|             41.75|                  10.75|              3.725|              32.0|          73289.75|\n",
            "|        IT|Junior Developer|  Male|              76.0|             52.75|                    6.0|              2.475|              26.5|          54129.25|\n",
            "|        HR|       Team Lead|Female|              37.0|             33.25|                   15.5|              2.375|              42.5|          96591.25|\n",
            "+----------+----------------+------+------------------+------------------+-----------------------+-------------------+------------------+------------------+\n",
            "only showing top 20 rows\n",
            "\n"
          ]
        }
      ]
    },
    {
      "cell_type": "code",
      "source": [
        "df_gender = hr_df.groupBy(\"Gender\").avg(\"Productivity\", \"Satisfaction\", \"Projects Completed\", \"Feedback Score\")\n"
      ],
      "metadata": {
        "id": "Hw7y-opsPeBm"
      },
      "execution_count": null,
      "outputs": []
    },
    {
      "cell_type": "code",
      "source": [
        "df_gender.show()"
      ],
      "metadata": {
        "colab": {
          "base_uri": "https://localhost:8080/"
        },
        "id": "5HOU148TUB6U",
        "outputId": "4356324c-9583-487c-c8f8-a919ce4708c8"
      },
      "execution_count": null,
      "outputs": [
        {
          "output_type": "stream",
          "name": "stdout",
          "text": [
            "+------+-----------------+-----------------+-----------------------+-------------------+\n",
            "|Gender|avg(Productivity)|avg(Satisfaction)|avg(Projects Completed)|avg(Feedback Score)|\n",
            "+------+-----------------+-----------------+-----------------------+-------------------+\n",
            "|Female|            42.97|            51.25|                  11.94|               3.01|\n",
            "|  Male|            50.54|            48.62|                  10.97| 2.7560000000000002|\n",
            "+------+-----------------+-----------------+-----------------------+-------------------+\n",
            "\n"
          ]
        }
      ]
    },
    {
      "cell_type": "code",
      "source": [
        "df_department = df.groupBy(\"Department\").avg(\"Productivity\", \"Satisfaction\", \"Projects Completed\", \"Feedback Score\")\n"
      ],
      "metadata": {
        "id": "uS9nRhPuTntB"
      },
      "execution_count": null,
      "outputs": []
    },
    {
      "cell_type": "code",
      "source": [
        "df_department.show()"
      ],
      "metadata": {
        "colab": {
          "base_uri": "https://localhost:8080/"
        },
        "id": "31MuEvV9REIS",
        "outputId": "329134d7-a20d-4ce1-b0ea-15d4dac75917"
      },
      "execution_count": null,
      "outputs": [
        {
          "output_type": "stream",
          "name": "stdout",
          "text": [
            "+------+-----------------+-----------------+-----------------------+-------------------+\n",
            "|Gender|avg(Productivity)|avg(Satisfaction)|avg(Projects Completed)|avg(Feedback Score)|\n",
            "+------+-----------------+-----------------+-----------------------+-------------------+\n",
            "|Female|            42.97|            51.25|                  11.94|               3.01|\n",
            "|  Male|            50.54|            48.62|                  10.97| 2.7560000000000002|\n",
            "+------+-----------------+-----------------+-----------------------+-------------------+\n",
            "\n"
          ]
        }
      ]
    },
    {
      "cell_type": "code",
      "source": [
        "\n",
        "df_position = df.groupBy(\"Position\").avg(\"Productivity\", \"Satisfaction\", \"Projects Completed\", \"Feedback Score\")\n",
        "df_position.show()"
      ],
      "metadata": {
        "colab": {
          "base_uri": "https://localhost:8080/"
        },
        "id": "5ZyDJVPlVYT_",
        "outputId": "27b726cc-576b-4403-ed36-46d99025a5a3"
      },
      "execution_count": null,
      "outputs": [
        {
          "output_type": "stream",
          "name": "stdout",
          "text": [
            "+----------------+------------------+------------------+-----------------------+-------------------+\n",
            "|        Position| avg(Productivity)| avg(Satisfaction)|avg(Projects Completed)|avg(Feedback Score)|\n",
            "+----------------+------------------+------------------+-----------------------+-------------------+\n",
            "|Junior Developer| 52.31428571428572| 54.05714285714286|      6.771428571428571| 2.8485714285714288|\n",
            "|          Intern|41.333333333333336|55.266666666666666|                    2.7| 2.9533333333333327|\n",
            "|Senior Developer|50.233333333333334|              50.4|     12.833333333333334|  2.633333333333333|\n",
            "|         Analyst| 44.54545454545455| 39.78787878787879|      9.393939393939394| 2.7666666666666666|\n",
            "|         Manager|            48.675|            55.575|                 19.975|  3.022500000000001|\n",
            "|       Team Lead|            42.375|          43.40625|               14.96875|           3.034375|\n",
            "+----------------+------------------+------------------+-----------------------+-------------------+\n",
            "\n"
          ]
        }
      ]
    },
    {
      "cell_type": "code",
      "source": [
        "# prompt: criar uma agrupamento por genero e media de salario , Age\n",
        "\n",
        "df_gender_salary = hr_df.groupBy(\"Gender\").avg(\"Salary\", \"Age\")\n",
        "df_gender_salary.show()\n"
      ],
      "metadata": {
        "colab": {
          "base_uri": "https://localhost:8080/"
        },
        "id": "BqGLVBsIZkye",
        "outputId": "ee76bd4c-637b-469b-fc76-d811d1eeac8e"
      },
      "execution_count": null,
      "outputs": [
        {
          "output_type": "stream",
          "name": "stdout",
          "text": [
            "+------+-----------+--------+\n",
            "|Gender|avg(Salary)|avg(Age)|\n",
            "+------+-----------+--------+\n",
            "|Female|   76985.22|   35.48|\n",
            "|  Male|   76253.27|   33.82|\n",
            "+------+-----------+--------+\n",
            "\n"
          ]
        }
      ]
    },
    {
      "cell_type": "code",
      "source": [
        "!mkdir datasink"
      ],
      "metadata": {
        "id": "HVO7Stw8bX2G"
      },
      "execution_count": null,
      "outputs": []
    },
    {
      "cell_type": "code",
      "source": [
        "# prompt: armazene o df_avg, e particione por department e position , no formato parquet no diretorio datasink.\n",
        "\n",
        "df_avg.write.partitionBy(\"Department\", \"Position\").parquet(\"datasink/df_avg.parquet\")\n"
      ],
      "metadata": {
        "id": "we8S7vZubajV"
      },
      "execution_count": null,
      "outputs": []
    },
    {
      "cell_type": "code",
      "source": [
        "# prompt: read e load do datasink no department = Finance\n",
        "\n",
        "Finance_Analyst = spark.read \\\n",
        "    .format(\"parquet\") \\\n",
        "    .load(\"/content/datasink/df_avg.parquet/Department=Finance/Position=Analyst/*.parquet\")\n",
        "\n"
      ],
      "metadata": {
        "id": "EMZLhmkLfG-8"
      },
      "execution_count": null,
      "outputs": []
    },
    {
      "cell_type": "code",
      "source": [
        "Finance_Analyst.show()"
      ],
      "metadata": {
        "colab": {
          "base_uri": "https://localhost:8080/"
        },
        "id": "tYTLkwGxgA8C",
        "outputId": "12d43c4a-a9c5-4712-f8cf-28cabcf9b724"
      },
      "execution_count": null,
      "outputs": [
        {
          "output_type": "stream",
          "name": "stdout",
          "text": [
            "+------+-----------------+-----------------+-----------------------+-------------------+--------+-----------+\n",
            "|Gender|avg(Productivity)|avg(Satisfaction)|avg(Projects Completed)|avg(Feedback Score)|avg(Age)|avg(Salary)|\n",
            "+------+-----------------+-----------------+-----------------------+-------------------+--------+-----------+\n",
            "|Female|             77.0|             44.0|                   10.0|                2.0|    28.0|    63299.0|\n",
            "|  Male|             31.0|           42.125|                    8.0| 2.6750000000000003|  28.125|    68171.5|\n",
            "+------+-----------------+-----------------+-----------------------+-------------------+--------+-----------+\n",
            "\n"
          ]
        }
      ]
    },
    {
      "cell_type": "code",
      "source": [
        "\n",
        "from pyspark.sql.functions import lit"
      ],
      "metadata": {
        "id": "Xps82oqvgQ-S"
      },
      "execution_count": null,
      "outputs": []
    },
    {
      "cell_type": "code",
      "source": [
        "Finance_Analyst"
      ],
      "metadata": {
        "id": "LFUdiCPIgmDX"
      },
      "execution_count": null,
      "outputs": []
    }
  ]
}